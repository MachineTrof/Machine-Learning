{
 "cells": [
  {
   "cell_type": "markdown",
   "id": "31e9a237",
   "metadata": {},
   "source": [
    "# Трофимов Михаил ПМ22-1. Вариант 2"
   ]
  },
  {
   "cell_type": "code",
   "execution_count": 1,
   "id": "8f88c738",
   "metadata": {},
   "outputs": [],
   "source": [
    "import numpy as np\n",
    "import pandas as pd\n",
    "import matplotlib.pyplot as plt"
   ]
  },
  {
   "cell_type": "markdown",
   "id": "33642a2f",
   "metadata": {},
   "source": [
    "**1. Загрузите данные по вариантам в ноутбук.**"
   ]
  },
  {
   "cell_type": "code",
   "execution_count": 2,
   "id": "d6d0c951",
   "metadata": {},
   "outputs": [
    {
     "data": {
      "text/html": [
       "<div>\n",
       "<style scoped>\n",
       "    .dataframe tbody tr th:only-of-type {\n",
       "        vertical-align: middle;\n",
       "    }\n",
       "\n",
       "    .dataframe tbody tr th {\n",
       "        vertical-align: top;\n",
       "    }\n",
       "\n",
       "    .dataframe thead th {\n",
       "        text-align: right;\n",
       "    }\n",
       "</style>\n",
       "<table border=\"1\" class=\"dataframe\">\n",
       "  <thead>\n",
       "    <tr style=\"text-align: right;\">\n",
       "      <th></th>\n",
       "      <th>№</th>\n",
       "      <th>№ школы</th>\n",
       "      <th>Класс</th>\n",
       "      <th>Пол</th>\n",
       "      <th>Номер варианта</th>\n",
       "      <th>Задания с кратким ответом</th>\n",
       "      <th>Задания с развёрнутым ответом</th>\n",
       "      <th>Устная часть</th>\n",
       "      <th>Первичный балл</th>\n",
       "      <th>Балл</th>\n",
       "      <th>Минимальный балл</th>\n",
       "    </tr>\n",
       "  </thead>\n",
       "  <tbody>\n",
       "    <tr>\n",
       "      <th>0</th>\n",
       "      <td>1</td>\n",
       "      <td>124</td>\n",
       "      <td>11</td>\n",
       "      <td>Ж</td>\n",
       "      <td>341</td>\n",
       "      <td>------+-----</td>\n",
       "      <td>0(2)0(2)0(2)0(3)0(3)0(4)0(4)</td>\n",
       "      <td>NaN</td>\n",
       "      <td>1</td>\n",
       "      <td>5</td>\n",
       "      <td>27</td>\n",
       "    </tr>\n",
       "    <tr>\n",
       "      <th>1</th>\n",
       "      <td>2</td>\n",
       "      <td>128</td>\n",
       "      <td>11</td>\n",
       "      <td>Ж</td>\n",
       "      <td>345</td>\n",
       "      <td>-+----------</td>\n",
       "      <td>0(2)0(2)0(2)0(3)0(3)0(4)0(4)</td>\n",
       "      <td>NaN</td>\n",
       "      <td>1</td>\n",
       "      <td>5</td>\n",
       "      <td>27</td>\n",
       "    </tr>\n",
       "    <tr>\n",
       "      <th>2</th>\n",
       "      <td>3</td>\n",
       "      <td>132</td>\n",
       "      <td>11</td>\n",
       "      <td>Ж</td>\n",
       "      <td>340</td>\n",
       "      <td>-+----------</td>\n",
       "      <td>0(2)0(2)0(2)0(3)0(3)0(4)0(4)</td>\n",
       "      <td>NaN</td>\n",
       "      <td>1</td>\n",
       "      <td>5</td>\n",
       "      <td>27</td>\n",
       "    </tr>\n",
       "    <tr>\n",
       "      <th>3</th>\n",
       "      <td>4</td>\n",
       "      <td>134</td>\n",
       "      <td>11</td>\n",
       "      <td>Ж</td>\n",
       "      <td>339</td>\n",
       "      <td>-+----------</td>\n",
       "      <td>0(2)0(2)0(2)0(3)0(3)0(4)0(4)</td>\n",
       "      <td>NaN</td>\n",
       "      <td>1</td>\n",
       "      <td>5</td>\n",
       "      <td>27</td>\n",
       "    </tr>\n",
       "    <tr>\n",
       "      <th>4</th>\n",
       "      <td>5</td>\n",
       "      <td>136</td>\n",
       "      <td>11</td>\n",
       "      <td>Ж</td>\n",
       "      <td>348</td>\n",
       "      <td>--------+---</td>\n",
       "      <td>0(2)0(2)0(2)0(3)0(3)0(4)0(4)</td>\n",
       "      <td>NaN</td>\n",
       "      <td>1</td>\n",
       "      <td>5</td>\n",
       "      <td>27</td>\n",
       "    </tr>\n",
       "    <tr>\n",
       "      <th>...</th>\n",
       "      <td>...</td>\n",
       "      <td>...</td>\n",
       "      <td>...</td>\n",
       "      <td>...</td>\n",
       "      <td>...</td>\n",
       "      <td>...</td>\n",
       "      <td>...</td>\n",
       "      <td>...</td>\n",
       "      <td>...</td>\n",
       "      <td>...</td>\n",
       "      <td>...</td>\n",
       "    </tr>\n",
       "    <tr>\n",
       "      <th>2351</th>\n",
       "      <td>2352</td>\n",
       "      <td>136</td>\n",
       "      <td>11</td>\n",
       "      <td>М</td>\n",
       "      <td>337</td>\n",
       "      <td>++++++++++++</td>\n",
       "      <td>2(2)2(2)2(2)3(3)3(3)0(4)1(4)</td>\n",
       "      <td>NaN</td>\n",
       "      <td>25</td>\n",
       "      <td>92</td>\n",
       "      <td>27</td>\n",
       "    </tr>\n",
       "    <tr>\n",
       "      <th>2352</th>\n",
       "      <td>2353</td>\n",
       "      <td>136</td>\n",
       "      <td>11</td>\n",
       "      <td>М</td>\n",
       "      <td>341</td>\n",
       "      <td>++-+++++++++</td>\n",
       "      <td>2(2)2(2)1(2)2(3)2(3)4(4)1(4)</td>\n",
       "      <td>NaN</td>\n",
       "      <td>25</td>\n",
       "      <td>92</td>\n",
       "      <td>27</td>\n",
       "    </tr>\n",
       "    <tr>\n",
       "      <th>2353</th>\n",
       "      <td>2354</td>\n",
       "      <td>136</td>\n",
       "      <td>11</td>\n",
       "      <td>М</td>\n",
       "      <td>341</td>\n",
       "      <td>++++++++++++</td>\n",
       "      <td>2(2)1(2)2(2)1(3)3(3)4(4)2(4)</td>\n",
       "      <td>NaN</td>\n",
       "      <td>27</td>\n",
       "      <td>96</td>\n",
       "      <td>27</td>\n",
       "    </tr>\n",
       "    <tr>\n",
       "      <th>2354</th>\n",
       "      <td>2355</td>\n",
       "      <td>136</td>\n",
       "      <td>11</td>\n",
       "      <td>М</td>\n",
       "      <td>343</td>\n",
       "      <td>++++++++++++</td>\n",
       "      <td>2(2)2(2)2(2)0(3)3(3)4(4)2(4)</td>\n",
       "      <td>NaN</td>\n",
       "      <td>27</td>\n",
       "      <td>96</td>\n",
       "      <td>27</td>\n",
       "    </tr>\n",
       "    <tr>\n",
       "      <th>2355</th>\n",
       "      <td>2356</td>\n",
       "      <td>136</td>\n",
       "      <td>11</td>\n",
       "      <td>Ж</td>\n",
       "      <td>337</td>\n",
       "      <td>++++++++++++</td>\n",
       "      <td>2(2)2(2)2(2)0(3)3(3)4(4)2(4)</td>\n",
       "      <td>NaN</td>\n",
       "      <td>27</td>\n",
       "      <td>96</td>\n",
       "      <td>27</td>\n",
       "    </tr>\n",
       "  </tbody>\n",
       "</table>\n",
       "<p>2356 rows × 11 columns</p>\n",
       "</div>"
      ],
      "text/plain": [
       "         №  № школы Класс Пол  Номер варианта Задания с кратким ответом  \\\n",
       "0        1      124    11   Ж             341              ------+-----   \n",
       "1        2      128    11   Ж             345              -+----------   \n",
       "2        3      132    11   Ж             340              -+----------   \n",
       "3        4      134    11   Ж             339              -+----------   \n",
       "4        5      136    11   Ж             348              --------+---   \n",
       "...    ...      ...   ...  ..             ...                       ...   \n",
       "2351  2352      136    11   М             337              ++++++++++++   \n",
       "2352  2353      136    11   М             341              ++-+++++++++   \n",
       "2353  2354      136    11   М             341              ++++++++++++   \n",
       "2354  2355      136    11   М             343              ++++++++++++   \n",
       "2355  2356      136    11   Ж             337              ++++++++++++   \n",
       "\n",
       "     Задания с развёрнутым ответом  Устная часть  Первичный балл  Балл  \\\n",
       "0     0(2)0(2)0(2)0(3)0(3)0(4)0(4)           NaN               1     5   \n",
       "1     0(2)0(2)0(2)0(3)0(3)0(4)0(4)           NaN               1     5   \n",
       "2     0(2)0(2)0(2)0(3)0(3)0(4)0(4)           NaN               1     5   \n",
       "3     0(2)0(2)0(2)0(3)0(3)0(4)0(4)           NaN               1     5   \n",
       "4     0(2)0(2)0(2)0(3)0(3)0(4)0(4)           NaN               1     5   \n",
       "...                            ...           ...             ...   ...   \n",
       "2351  2(2)2(2)2(2)3(3)3(3)0(4)1(4)           NaN              25    92   \n",
       "2352  2(2)2(2)1(2)2(3)2(3)4(4)1(4)           NaN              25    92   \n",
       "2353  2(2)1(2)2(2)1(3)3(3)4(4)2(4)           NaN              27    96   \n",
       "2354  2(2)2(2)2(2)0(3)3(3)4(4)2(4)           NaN              27    96   \n",
       "2355  2(2)2(2)2(2)0(3)3(3)4(4)2(4)           NaN              27    96   \n",
       "\n",
       "      Минимальный балл  \n",
       "0                   27  \n",
       "1                   27  \n",
       "2                   27  \n",
       "3                   27  \n",
       "4                   27  \n",
       "...                ...  \n",
       "2351                27  \n",
       "2352                27  \n",
       "2353                27  \n",
       "2354                27  \n",
       "2355                27  \n",
       "\n",
       "[2356 rows x 11 columns]"
      ]
     },
     "execution_count": 2,
     "metadata": {},
     "output_type": "execute_result"
    }
   ],
   "source": [
    "table = pd.read_excel('Вариант 2.xlsx', skiprows = [0, 1, 2359])\n",
    "table #Импортирвали таблицу из экселя, пропуская первые две и последнюю строчки"
   ]
  },
  {
   "cell_type": "markdown",
   "id": "88a0371f",
   "metadata": {},
   "source": [
    "**2. Сделайте описательную статистику полученных данных.**"
   ]
  },
  {
   "cell_type": "code",
   "execution_count": 3,
   "id": "62d70c95",
   "metadata": {},
   "outputs": [
    {
     "data": {
      "text/html": [
       "<div>\n",
       "<style scoped>\n",
       "    .dataframe tbody tr th:only-of-type {\n",
       "        vertical-align: middle;\n",
       "    }\n",
       "\n",
       "    .dataframe tbody tr th {\n",
       "        vertical-align: top;\n",
       "    }\n",
       "\n",
       "    .dataframe thead th {\n",
       "        text-align: right;\n",
       "    }\n",
       "</style>\n",
       "<table border=\"1\" class=\"dataframe\">\n",
       "  <thead>\n",
       "    <tr style=\"text-align: right;\">\n",
       "      <th></th>\n",
       "      <th>№</th>\n",
       "      <th>№ школы</th>\n",
       "      <th>Номер варианта</th>\n",
       "      <th>Устная часть</th>\n",
       "      <th>Первичный балл</th>\n",
       "      <th>Балл</th>\n",
       "      <th>Минимальный балл</th>\n",
       "    </tr>\n",
       "  </thead>\n",
       "  <tbody>\n",
       "    <tr>\n",
       "      <th>count</th>\n",
       "      <td>2356.000000</td>\n",
       "      <td>2356.000000</td>\n",
       "      <td>2356.000000</td>\n",
       "      <td>0.0</td>\n",
       "      <td>2356.000000</td>\n",
       "      <td>2356.000000</td>\n",
       "      <td>2356.0</td>\n",
       "    </tr>\n",
       "    <tr>\n",
       "      <th>mean</th>\n",
       "      <td>1178.500000</td>\n",
       "      <td>132.005518</td>\n",
       "      <td>338.273769</td>\n",
       "      <td>NaN</td>\n",
       "      <td>10.123939</td>\n",
       "      <td>49.255093</td>\n",
       "      <td>27.0</td>\n",
       "    </tr>\n",
       "    <tr>\n",
       "      <th>std</th>\n",
       "      <td>680.262939</td>\n",
       "      <td>5.037984</td>\n",
       "      <td>53.660878</td>\n",
       "      <td>NaN</td>\n",
       "      <td>3.820484</td>\n",
       "      <td>17.880420</td>\n",
       "      <td>0.0</td>\n",
       "    </tr>\n",
       "    <tr>\n",
       "      <th>min</th>\n",
       "      <td>1.000000</td>\n",
       "      <td>121.000000</td>\n",
       "      <td>101.000000</td>\n",
       "      <td>NaN</td>\n",
       "      <td>1.000000</td>\n",
       "      <td>5.000000</td>\n",
       "      <td>27.0</td>\n",
       "    </tr>\n",
       "    <tr>\n",
       "      <th>25%</th>\n",
       "      <td>589.750000</td>\n",
       "      <td>127.000000</td>\n",
       "      <td>339.000000</td>\n",
       "      <td>NaN</td>\n",
       "      <td>7.000000</td>\n",
       "      <td>33.000000</td>\n",
       "      <td>27.0</td>\n",
       "    </tr>\n",
       "    <tr>\n",
       "      <th>50%</th>\n",
       "      <td>1178.500000</td>\n",
       "      <td>135.000000</td>\n",
       "      <td>342.500000</td>\n",
       "      <td>NaN</td>\n",
       "      <td>10.000000</td>\n",
       "      <td>50.000000</td>\n",
       "      <td>27.0</td>\n",
       "    </tr>\n",
       "    <tr>\n",
       "      <th>75%</th>\n",
       "      <td>1767.250000</td>\n",
       "      <td>136.000000</td>\n",
       "      <td>346.000000</td>\n",
       "      <td>NaN</td>\n",
       "      <td>13.000000</td>\n",
       "      <td>68.000000</td>\n",
       "      <td>27.0</td>\n",
       "    </tr>\n",
       "    <tr>\n",
       "      <th>max</th>\n",
       "      <td>2356.000000</td>\n",
       "      <td>137.000000</td>\n",
       "      <td>506.000000</td>\n",
       "      <td>NaN</td>\n",
       "      <td>27.000000</td>\n",
       "      <td>96.000000</td>\n",
       "      <td>27.0</td>\n",
       "    </tr>\n",
       "  </tbody>\n",
       "</table>\n",
       "</div>"
      ],
      "text/plain": [
       "                 №      № школы  Номер варианта  Устная часть  Первичный балл  \\\n",
       "count  2356.000000  2356.000000     2356.000000           0.0     2356.000000   \n",
       "mean   1178.500000   132.005518      338.273769           NaN       10.123939   \n",
       "std     680.262939     5.037984       53.660878           NaN        3.820484   \n",
       "min       1.000000   121.000000      101.000000           NaN        1.000000   \n",
       "25%     589.750000   127.000000      339.000000           NaN        7.000000   \n",
       "50%    1178.500000   135.000000      342.500000           NaN       10.000000   \n",
       "75%    1767.250000   136.000000      346.000000           NaN       13.000000   \n",
       "max    2356.000000   137.000000      506.000000           NaN       27.000000   \n",
       "\n",
       "              Балл  Минимальный балл  \n",
       "count  2356.000000            2356.0  \n",
       "mean     49.255093              27.0  \n",
       "std      17.880420               0.0  \n",
       "min       5.000000              27.0  \n",
       "25%      33.000000              27.0  \n",
       "50%      50.000000              27.0  \n",
       "75%      68.000000              27.0  \n",
       "max      96.000000              27.0  "
      ]
     },
     "execution_count": 3,
     "metadata": {},
     "output_type": "execute_result"
    }
   ],
   "source": [
    "table.describe() #describe() выдала описательную статистику"
   ]
  },
  {
   "cell_type": "markdown",
   "id": "a5aadc3e",
   "metadata": {},
   "source": [
    "**3. Найдите процент учащихся, выполнивших работу ниже среднего.**"
   ]
  },
  {
   "cell_type": "code",
   "execution_count": 4,
   "id": "a3e1f4b1",
   "metadata": {},
   "outputs": [
    {
     "data": {
      "text/plain": [
       "1131"
      ]
     },
     "execution_count": 4,
     "metadata": {},
     "output_type": "execute_result"
    }
   ],
   "source": [
    "count_below_mean = len(table[table['Балл'] < table['Балл'].mean()])\n",
    "count_below_mean \n",
    "#Посчитали число учеников, выполнивших работу ниже среднего. Ниже вывели их процент"
   ]
  },
  {
   "cell_type": "code",
   "execution_count": 5,
   "id": "17adea4d",
   "metadata": {},
   "outputs": [
    {
     "name": "stdout",
     "output_type": "stream",
     "text": [
      "Процент учащихся, выполнивших работу ниже среднего: 48.01%\n"
     ]
    }
   ],
   "source": [
    "percent_below_mean = (count_below_mean / len(table))*100\n",
    "print(f'Процент учащихся, выполнивших работу ниже среднего: {percent_below_mean:.2f}%')"
   ]
  },
  {
   "cell_type": "markdown",
   "id": "89a9cb45",
   "metadata": {},
   "source": [
    "**4. Найти процент учащихся не сдавших экзамен.**"
   ]
  },
  {
   "cell_type": "code",
   "execution_count": 6,
   "id": "d4cd3c4c",
   "metadata": {},
   "outputs": [
    {
     "data": {
      "text/plain": [
       "217"
      ]
     },
     "execution_count": 6,
     "metadata": {},
     "output_type": "execute_result"
    }
   ],
   "source": [
    "count_failure = len(table[table['Балл'] < table['Минимальный балл']])\n",
    "count_failure\n",
    "#Посчитали число учеников, не сдавших экзамен. Ниже вывели их процент"
   ]
  },
  {
   "cell_type": "code",
   "execution_count": 7,
   "id": "31a9177e",
   "metadata": {},
   "outputs": [
    {
     "name": "stdout",
     "output_type": "stream",
     "text": [
      "Процент учащихся не сдавших экзамен: 9.21%\n"
     ]
    }
   ],
   "source": [
    "percent_failure = (count_failure / len(table))*100\n",
    "print(f'Процент учащихся не сдавших экзамен: {percent_failure:.2f}%')"
   ]
  },
  {
   "cell_type": "markdown",
   "id": "a7da0830",
   "metadata": {},
   "source": [
    "**5. Постройте круговую диаграмму, показывающую распределение сдавших и не сдавших экзамен.**"
   ]
  },
  {
   "cell_type": "code",
   "execution_count": 8,
   "id": "1b9992fc",
   "metadata": {},
   "outputs": [
    {
     "data": {
      "text/html": [
       "<div>\n",
       "<style scoped>\n",
       "    .dataframe tbody tr th:only-of-type {\n",
       "        vertical-align: middle;\n",
       "    }\n",
       "\n",
       "    .dataframe tbody tr th {\n",
       "        vertical-align: top;\n",
       "    }\n",
       "\n",
       "    .dataframe thead th {\n",
       "        text-align: right;\n",
       "    }\n",
       "</style>\n",
       "<table border=\"1\" class=\"dataframe\">\n",
       "  <thead>\n",
       "    <tr style=\"text-align: right;\">\n",
       "      <th></th>\n",
       "      <th></th>\n",
       "    </tr>\n",
       "  </thead>\n",
       "  <tbody>\n",
       "    <tr>\n",
       "      <th>Сдали</th>\n",
       "      <td>90.789474</td>\n",
       "    </tr>\n",
       "    <tr>\n",
       "      <th>Не сдали</th>\n",
       "      <td>9.210526</td>\n",
       "    </tr>\n",
       "  </tbody>\n",
       "</table>\n",
       "</div>"
      ],
      "text/plain": [
       "                   \n",
       "Сдали     90.789474\n",
       "Не сдали   9.210526"
      ]
     },
     "execution_count": 8,
     "metadata": {},
     "output_type": "execute_result"
    }
   ],
   "source": [
    "data = pd.DataFrame({'': [100 - percent_failure, percent_failure]}, \n",
    "                    index = ['Сдали', 'Не сдали'])\n",
    "data #Создал промежуточный ДатаФрейм для удобства"
   ]
  },
  {
   "cell_type": "code",
   "execution_count": 9,
   "id": "972debe4",
   "metadata": {},
   "outputs": [
    {
     "data": {
      "text/plain": [
       "Text(0.5, 1.0, 'Распределение сдавших и не сдавших экзамен')"
      ]
     },
     "execution_count": 9,
     "metadata": {},
     "output_type": "execute_result"
    },
    {
     "data": {
      "image/png": "[encoded data removed]",
      "text/plain": [
       "<Figure size 640x480 with 1 Axes>"
      ]
     },
     "metadata": {},
     "output_type": "display_data"
    }
   ],
   "source": [
    "#Построил круговую диаграмму\n",
    "data.plot.pie(y = '', autopct='%1.2f%%', labels = None)\n",
    "plt.title('Распределение сдавших и не сдавших экзамен')"
   ]
  },
  {
   "cell_type": "markdown",
   "id": "350f6839",
   "metadata": {},
   "source": [
    "**6. Постройте ядерную оценку плотности распределения баллов за экзамен.**"
   ]
  },
  {
   "cell_type": "code",
   "execution_count": 10,
   "id": "3d739a8d",
   "metadata": {},
   "outputs": [
    {
     "data": {
      "text/plain": [
       "Text(0.5, 1.0, 'Ядерная оценка плотности распределения баллов за экзамен')"
      ]
     },
     "execution_count": 10,
     "metadata": {},
     "output_type": "execute_result"
    },
    {
     "data": {
      "image/png": "[encoded data removed]",
      "text/plain": [
       "<Figure size 640x480 with 1 Axes>"
      ]
     },
     "metadata": {},
     "output_type": "display_data"
    }
   ],
   "source": [
    "#Используя density построил ядерную оценку плотности распределения\n",
    "#Параметр ind помог \"сократить\" график, строя плотность только по целым точкам\n",
    "table['Балл'].plot.density(ind = [i for i in range(0,101)])\n",
    "plt.title('Ядерная оценка плотности распределения баллов за экзамен')"
   ]
  },
  {
   "cell_type": "markdown",
   "id": "88f19bce",
   "metadata": {},
   "source": [
    "**7. Найдите процентное соотношение учащихся, сдавших экзамен на «отлично», «хорошо», «удовлетворительно», «неудовлетворительно».**"
   ]
  },
  {
   "cell_type": "markdown",
   "id": "2db09d28",
   "metadata": {},
   "source": [
    "Математика (профильный уровень):<br/>\n",
    "0-26 баллов - оценка 2,<br/>\n",
    "27-49 баллов - оценка 3,<br/>\n",
    "50-67 баллов - оценка 4,<br/>\n",
    "68 и выше баллов - оценка 5"
   ]
  },
  {
   "cell_type": "code",
   "execution_count": 11,
   "id": "a63a2880",
   "metadata": {},
   "outputs": [
    {
     "data": {
      "text/plain": [
       "([217, 914, 622, 603], 2356)"
      ]
     },
     "execution_count": 11,
     "metadata": {},
     "output_type": "execute_result"
    }
   ],
   "source": [
    "#Создал массив, содержащий кол-ва учеников, сдавших экзамен на ту или иную оценку\n",
    "count_of_passes = [len(table[table['Балл'] < 27]),\n",
    "                   len(table[(table['Балл'] >= 27) & (table['Балл'] < 50)]), \n",
    "                   len(table[(table['Балл'] >= 50) & (table['Балл'] < 68)]),\n",
    "                   len(table[table['Балл'] >= 68])]\n",
    "count_of_passes, sum(count_of_passes)"
   ]
  },
  {
   "cell_type": "code",
   "execution_count": 12,
   "id": "2b05a435",
   "metadata": {},
   "outputs": [
    {
     "name": "stdout",
     "output_type": "stream",
     "text": [
      "Процент учащихся, сдавших на Неудовлетворительно - 9.2105%\n",
      "Процент учащихся, сдавших на Удовлетворительно - 38.7946%\n",
      "Процент учащихся, сдавших на Хорошо - 26.4007%\n",
      "Процент учащихся, сдавших на Отлично - 25.5942%\n"
     ]
    }
   ],
   "source": [
    "#Через цикл вывел проценты\n",
    "evaluations = ['Неудовлетворительно', 'Удовлетворительно', 'Хорошо', 'Отлично']\n",
    "for i in range(4):\n",
    "    print(f'Процент учащихся, сдавших на {evaluations[i]} - {(count_of_passes[i] / len(table))*100:.4f}%')"
   ]
  },
  {
   "cell_type": "markdown",
   "id": "5f9381dc",
   "metadata": {},
   "source": [
    "**8. Какое процентное соотношение юношей и девушек писало данный экзамен?**"
   ]
  },
  {
   "cell_type": "code",
   "execution_count": 13,
   "id": "a1c97430",
   "metadata": {},
   "outputs": [
    {
     "data": {
      "text/plain": [
       "(1111, 1245)"
      ]
     },
     "execution_count": 13,
     "metadata": {},
     "output_type": "execute_result"
    }
   ],
   "source": [
    "count_M = len(table[table['Пол'] == 'М'])\n",
    "count_F = len(table[table['Пол'] == 'Ж'])\n",
    "count_M, count_F #Кол-ва юношей и девушек. Ниже вывел проценты"
   ]
  },
  {
   "cell_type": "code",
   "execution_count": 14,
   "id": "044c3efe",
   "metadata": {},
   "outputs": [
    {
     "name": "stdout",
     "output_type": "stream",
     "text": [
      "Процент юношей: 47.16%\n",
      "Процент девушек: 52.84%\n"
     ]
    }
   ],
   "source": [
    "print(f'Процент юношей: {(count_M / len(table))*100:.2f}%\\nПроцент девушек: {(count_F / len(table))*100:.2f}%')"
   ]
  },
  {
   "cell_type": "markdown",
   "id": "a3ab9ebf",
   "metadata": {},
   "source": [
    "**9. Сколько школ принимало участие в экзамене?**"
   ]
  },
  {
   "cell_type": "code",
   "execution_count": 15,
   "id": "cba77814",
   "metadata": {},
   "outputs": [
    {
     "name": "stdout",
     "output_type": "stream",
     "text": [
      "Кол-во школ, принимавших участие в экзамене: 17\n"
     ]
    }
   ],
   "source": [
    "#Использовал np.unique(), чтобы найти все уникальные номера школ\n",
    "count_of_schools = len(np.unique(table['№ школы']))\n",
    "print(f'Кол-во школ, принимавших участие в экзамене: {count_of_schools}')"
   ]
  },
  {
   "cell_type": "markdown",
   "id": "f6cdeefb",
   "metadata": {},
   "source": [
    "**10. Сколько всего заданий с кратким ответом? С развернутым ответом?**"
   ]
  },
  {
   "cell_type": "code",
   "execution_count": 16,
   "id": "47c85cc5",
   "metadata": {},
   "outputs": [
    {
     "name": "stdout",
     "output_type": "stream",
     "text": [
      "Кол-во заданий с Кратким ответом: 12\n"
     ]
    }
   ],
   "source": [
    "#Один номер - один плюс или минус. Следовательно длина строки - число номеров\n",
    "count_of_short = len(table['Задания с кратким ответом'][0])\n",
    "print(f'Кол-во заданий с Кратким ответом: {count_of_short}')"
   ]
  },
  {
   "cell_type": "code",
   "execution_count": 17,
   "id": "3d1cee41",
   "metadata": {},
   "outputs": [
    {
     "name": "stdout",
     "output_type": "stream",
     "text": [
      "Кол-во заданий с Развёрнутым ответом: 7\n"
     ]
    }
   ],
   "source": [
    "#Один номер - маска b(m) длиной 4. b - число выставленных баллов, m - число макс баллов\n",
    "#Следовательно длина строки делить на 4 - число номеров с развёрнутым ответом\n",
    "count_of_long = len(table['Задания с развёрнутым ответом'][0])//4\n",
    "print(f'Кол-во заданий с Развёрнутым ответом: {count_of_long}')"
   ]
  },
  {
   "cell_type": "markdown",
   "id": "43759392",
   "metadata": {},
   "source": [
    "**11. Пусть задания с кратким ответом будут задания типа В. <br/>Соответственно всего по экзамену вопросов класса В: В1, B2, ..., Вк. <br/>Посчитайте процент выполненных и невыполненных заданий по каждому вопросу класса В.**"
   ]
  },
  {
   "cell_type": "code",
   "execution_count": 18,
   "id": "e165b0bc",
   "metadata": {},
   "outputs": [
    {
     "data": {
      "text/plain": [
       "[2103, 2246, 2186, 2144, 2085, 1724, 883, 1127, 2164, 1684, 1396, 1089]"
      ]
     },
     "execution_count": 18,
     "metadata": {},
     "output_type": "execute_result"
    }
   ],
   "source": [
    "#Собираем информацию по выполненным заданиям в массив, ниже выводим проценты\n",
    "count_of_done_short = [0]*count_of_short\n",
    "for i in range(len(table)):\n",
    "    for j in range(count_of_short):\n",
    "        if table['Задания с кратким ответом'][i][j] == '+':\n",
    "            count_of_done_short[j] += 1\n",
    "count_of_done_short"
   ]
  },
  {
   "cell_type": "code",
   "execution_count": 19,
   "id": "bd9bb763",
   "metadata": {},
   "outputs": [
    {
     "name": "stdout",
     "output_type": "stream",
     "text": [
      "Процент выполненных заданий типа 1: 89.26%\n",
      "Процент невыполненных заданий типа 1: 10.74%\n",
      "\n",
      "Процент выполненных заданий типа 2: 95.33%\n",
      "Процент невыполненных заданий типа 2: 4.67%\n",
      "\n",
      "Процент выполненных заданий типа 3: 92.78%\n",
      "Процент невыполненных заданий типа 3: 7.22%\n",
      "\n",
      "Процент выполненных заданий типа 4: 91.00%\n",
      "Процент невыполненных заданий типа 4: 9.00%\n",
      "\n",
      "Процент выполненных заданий типа 5: 88.50%\n",
      "Процент невыполненных заданий типа 5: 11.50%\n",
      "\n",
      "Процент выполненных заданий типа 6: 73.17%\n",
      "Процент невыполненных заданий типа 6: 26.83%\n",
      "\n",
      "Процент выполненных заданий типа 7: 37.48%\n",
      "Процент невыполненных заданий типа 7: 62.52%\n",
      "\n",
      "Процент выполненных заданий типа 8: 47.84%\n",
      "Процент невыполненных заданий типа 8: 52.16%\n",
      "\n",
      "Процент выполненных заданий типа 9: 91.85%\n",
      "Процент невыполненных заданий типа 9: 8.15%\n",
      "\n",
      "Процент выполненных заданий типа 10: 71.48%\n",
      "Процент невыполненных заданий типа 10: 28.52%\n",
      "\n",
      "Процент выполненных заданий типа 11: 59.25%\n",
      "Процент невыполненных заданий типа 11: 40.75%\n",
      "\n",
      "Процент выполненных заданий типа 12: 46.22%\n",
      "Процент невыполненных заданий типа 12: 53.78%\n",
      "\n"
     ]
    }
   ],
   "source": [
    "for i in range(count_of_short):\n",
    "    print(f'Процент выполненных заданий типа {i+1}: {count_of_done_short[i]/len(table)*100:.2f}%')\n",
    "    print(f'Процент невыполненных заданий типа {i+1}: {100 - count_of_done_short[i]/len(table)*100:.2f}%\\n')"
   ]
  },
  {
   "cell_type": "markdown",
   "id": "b77c2cf7",
   "metadata": {},
   "source": [
    "**12. Аналогично и с типом С (ответы с развернутым ответом)**"
   ]
  },
  {
   "cell_type": "markdown",
   "id": "85134d59",
   "metadata": {},
   "source": [
    "Буду считать выполненными заданиями те, за которые стоит более 0 баллов"
   ]
  },
  {
   "cell_type": "code",
   "execution_count": 20,
   "id": "90e44ef6",
   "metadata": {},
   "outputs": [
    {
     "data": {
      "text/plain": [
       "[799, 374, 367, 64, 80, 26, 80]"
      ]
     },
     "execution_count": 20,
     "metadata": {},
     "output_type": "execute_result"
    }
   ],
   "source": [
    "#Собираем информацию по выполненным заданиям в массив, ниже выводим проценты\n",
    "count_of_done_long = [0]*count_of_long\n",
    "for i in range(len(table)):\n",
    "    for j in range(0, count_of_long*4, 4):\n",
    "        if table['Задания с развёрнутым ответом'][i][j] != '0':\n",
    "            count_of_done_long[j//4] += 1\n",
    "count_of_done_long"
   ]
  },
  {
   "cell_type": "code",
   "execution_count": 21,
   "id": "9fbabd9a",
   "metadata": {},
   "outputs": [
    {
     "name": "stdout",
     "output_type": "stream",
     "text": [
      "Процент выполненных заданий типа 1: 33.91%\n",
      "Процент невыполненных заданий типа 1: 66.09%\n",
      "\n",
      "Процент выполненных заданий типа 2: 15.87%\n",
      "Процент невыполненных заданий типа 2: 84.13%\n",
      "\n",
      "Процент выполненных заданий типа 3: 15.58%\n",
      "Процент невыполненных заданий типа 3: 84.42%\n",
      "\n",
      "Процент выполненных заданий типа 4: 2.72%\n",
      "Процент невыполненных заданий типа 4: 97.28%\n",
      "\n",
      "Процент выполненных заданий типа 5: 3.40%\n",
      "Процент невыполненных заданий типа 5: 96.60%\n",
      "\n",
      "Процент выполненных заданий типа 6: 1.10%\n",
      "Процент невыполненных заданий типа 6: 98.90%\n",
      "\n",
      "Процент выполненных заданий типа 7: 3.40%\n",
      "Процент невыполненных заданий типа 7: 96.60%\n",
      "\n"
     ]
    }
   ],
   "source": [
    "for i in range(count_of_long):\n",
    "    print(f'Процент выполненных заданий типа {i+1}: {count_of_done_long[i]/len(table)*100:.2f}%')\n",
    "    print(f'Процент невыполненных заданий типа {i+1}: {100 - count_of_done_long[i]/len(table)*100:.2f}%\\n')"
   ]
  },
  {
   "cell_type": "markdown",
   "id": "55c2f98c",
   "metadata": {},
   "source": [
    "**13. Сделайте анализ по двум школам:<br/>\n",
    "1 - по всем выполненным заданиям типа В<br/>\n",
    "2 - по заданиям типа С больше 50%<br/>\n",
    "3 - по среднему баллу юношей и девушек**"
   ]
  },
  {
   "cell_type": "code",
   "execution_count": 22,
   "id": "c1279abf",
   "metadata": {},
   "outputs": [
    {
     "data": {
      "text/plain": [
       "array([121, 122, 123, 124, 125, 126, 127, 128, 129, 130, 131, 132, 133,\n",
       "       134, 135, 136, 137])"
      ]
     },
     "execution_count": 22,
     "metadata": {},
     "output_type": "execute_result"
    }
   ],
   "source": [
    "np.unique(table['№ школы']) #Выводим все номера школ, выберем 125 и 135"
   ]
  },
  {
   "cell_type": "markdown",
   "id": "c90dd4fa",
   "metadata": {},
   "source": [
    "Школа 125"
   ]
  },
  {
   "cell_type": "code",
   "execution_count": 23,
   "id": "a5c72f44",
   "metadata": {},
   "outputs": [
    {
     "data": {
      "text/html": [
       "<div>\n",
       "<style scoped>\n",
       "    .dataframe tbody tr th:only-of-type {\n",
       "        vertical-align: middle;\n",
       "    }\n",
       "\n",
       "    .dataframe tbody tr th {\n",
       "        vertical-align: top;\n",
       "    }\n",
       "\n",
       "    .dataframe thead th {\n",
       "        text-align: right;\n",
       "    }\n",
       "</style>\n",
       "<table border=\"1\" class=\"dataframe\">\n",
       "  <thead>\n",
       "    <tr style=\"text-align: right;\">\n",
       "      <th></th>\n",
       "      <th>№</th>\n",
       "      <th>№ школы</th>\n",
       "      <th>Класс</th>\n",
       "      <th>Пол</th>\n",
       "      <th>Номер варианта</th>\n",
       "      <th>Задания с кратким ответом</th>\n",
       "      <th>Задания с развёрнутым ответом</th>\n",
       "      <th>Устная часть</th>\n",
       "      <th>Первичный балл</th>\n",
       "      <th>Балл</th>\n",
       "      <th>Минимальный балл</th>\n",
       "    </tr>\n",
       "  </thead>\n",
       "  <tbody>\n",
       "    <tr>\n",
       "      <th>60</th>\n",
       "      <td>61</td>\n",
       "      <td>125</td>\n",
       "      <td>11А</td>\n",
       "      <td>Ж</td>\n",
       "      <td>343</td>\n",
       "      <td>-+++----+---</td>\n",
       "      <td>0(2)0(2)0(2)0(3)0(3)0(4)0(4)</td>\n",
       "      <td>NaN</td>\n",
       "      <td>4</td>\n",
       "      <td>18</td>\n",
       "      <td>27</td>\n",
       "    </tr>\n",
       "    <tr>\n",
       "      <th>139</th>\n",
       "      <td>140</td>\n",
       "      <td>125</td>\n",
       "      <td>11Б</td>\n",
       "      <td>М</td>\n",
       "      <td>348</td>\n",
       "      <td>++++----+---</td>\n",
       "      <td>0(2)0(2)0(2)0(3)0(3)0(4)0(4)</td>\n",
       "      <td>NaN</td>\n",
       "      <td>5</td>\n",
       "      <td>23</td>\n",
       "      <td>27</td>\n",
       "    </tr>\n",
       "    <tr>\n",
       "      <th>140</th>\n",
       "      <td>141</td>\n",
       "      <td>125</td>\n",
       "      <td>13</td>\n",
       "      <td>М</td>\n",
       "      <td>106</td>\n",
       "      <td>+++-+--+----</td>\n",
       "      <td>0(2)0(2)0(2)0(3)0(3)0(4)0(4)</td>\n",
       "      <td>NaN</td>\n",
       "      <td>5</td>\n",
       "      <td>23</td>\n",
       "      <td>27</td>\n",
       "    </tr>\n",
       "    <tr>\n",
       "      <th>233</th>\n",
       "      <td>234</td>\n",
       "      <td>125</td>\n",
       "      <td>13</td>\n",
       "      <td>Ж</td>\n",
       "      <td>504</td>\n",
       "      <td>+++-+--++---</td>\n",
       "      <td>0(2)0(2)0(2)0(3)0(3)0(4)0(4)</td>\n",
       "      <td>NaN</td>\n",
       "      <td>6</td>\n",
       "      <td>27</td>\n",
       "      <td>27</td>\n",
       "    </tr>\n",
       "    <tr>\n",
       "      <th>234</th>\n",
       "      <td>235</td>\n",
       "      <td>125</td>\n",
       "      <td>13</td>\n",
       "      <td>М</td>\n",
       "      <td>106</td>\n",
       "      <td>++++++------</td>\n",
       "      <td>0(2)0(2)0(2)0(3)0(3)0(4)0(4)</td>\n",
       "      <td>NaN</td>\n",
       "      <td>6</td>\n",
       "      <td>27</td>\n",
       "      <td>27</td>\n",
       "    </tr>\n",
       "    <tr>\n",
       "      <th>...</th>\n",
       "      <td>...</td>\n",
       "      <td>...</td>\n",
       "      <td>...</td>\n",
       "      <td>...</td>\n",
       "      <td>...</td>\n",
       "      <td>...</td>\n",
       "      <td>...</td>\n",
       "      <td>...</td>\n",
       "      <td>...</td>\n",
       "      <td>...</td>\n",
       "      <td>...</td>\n",
       "    </tr>\n",
       "    <tr>\n",
       "      <th>1921</th>\n",
       "      <td>1922</td>\n",
       "      <td>125</td>\n",
       "      <td>11</td>\n",
       "      <td>М</td>\n",
       "      <td>339</td>\n",
       "      <td>++++++++++++</td>\n",
       "      <td>0(2)2(2)0(2)0(3)0(3)0(4)0(4)</td>\n",
       "      <td>NaN</td>\n",
       "      <td>14</td>\n",
       "      <td>70</td>\n",
       "      <td>27</td>\n",
       "    </tr>\n",
       "    <tr>\n",
       "      <th>1922</th>\n",
       "      <td>1923</td>\n",
       "      <td>125</td>\n",
       "      <td>11</td>\n",
       "      <td>Ж</td>\n",
       "      <td>347</td>\n",
       "      <td>++++++++++++</td>\n",
       "      <td>2(2)0(2)0(2)0(3)0(3)0(4)0(4)</td>\n",
       "      <td>NaN</td>\n",
       "      <td>14</td>\n",
       "      <td>70</td>\n",
       "      <td>27</td>\n",
       "    </tr>\n",
       "    <tr>\n",
       "      <th>1923</th>\n",
       "      <td>1924</td>\n",
       "      <td>125</td>\n",
       "      <td>11</td>\n",
       "      <td>Ж</td>\n",
       "      <td>346</td>\n",
       "      <td>-++++++-++++</td>\n",
       "      <td>2(2)0(2)2(2)0(3)0(3)0(4)0(4)</td>\n",
       "      <td>NaN</td>\n",
       "      <td>14</td>\n",
       "      <td>70</td>\n",
       "      <td>27</td>\n",
       "    </tr>\n",
       "    <tr>\n",
       "      <th>2059</th>\n",
       "      <td>2060</td>\n",
       "      <td>125</td>\n",
       "      <td>11А</td>\n",
       "      <td>М</td>\n",
       "      <td>346</td>\n",
       "      <td>++++++++++++</td>\n",
       "      <td>1(2)0(2)2(2)0(3)0(3)0(4)0(4)</td>\n",
       "      <td>NaN</td>\n",
       "      <td>15</td>\n",
       "      <td>72</td>\n",
       "      <td>27</td>\n",
       "    </tr>\n",
       "    <tr>\n",
       "      <th>2223</th>\n",
       "      <td>2224</td>\n",
       "      <td>125</td>\n",
       "      <td>11А</td>\n",
       "      <td>М</td>\n",
       "      <td>348</td>\n",
       "      <td>++++++++++++</td>\n",
       "      <td>2(2)2(2)0(2)0(3)0(3)0(4)1(4)</td>\n",
       "      <td>NaN</td>\n",
       "      <td>17</td>\n",
       "      <td>76</td>\n",
       "      <td>27</td>\n",
       "    </tr>\n",
       "  </tbody>\n",
       "</table>\n",
       "<p>77 rows × 11 columns</p>\n",
       "</div>"
      ],
      "text/plain": [
       "         №  № школы Класс Пол  Номер варианта Задания с кратким ответом  \\\n",
       "60      61      125   11А   Ж             343              -+++----+---   \n",
       "139    140      125   11Б   М             348              ++++----+---   \n",
       "140    141      125    13   М             106              +++-+--+----   \n",
       "233    234      125    13   Ж             504              +++-+--++---   \n",
       "234    235      125    13   М             106              ++++++------   \n",
       "...    ...      ...   ...  ..             ...                       ...   \n",
       "1921  1922      125    11   М             339              ++++++++++++   \n",
       "1922  1923      125    11   Ж             347              ++++++++++++   \n",
       "1923  1924      125    11   Ж             346              -++++++-++++   \n",
       "2059  2060      125   11А   М             346              ++++++++++++   \n",
       "2223  2224      125   11А   М             348              ++++++++++++   \n",
       "\n",
       "     Задания с развёрнутым ответом  Устная часть  Первичный балл  Балл  \\\n",
       "60    0(2)0(2)0(2)0(3)0(3)0(4)0(4)           NaN               4    18   \n",
       "139   0(2)0(2)0(2)0(3)0(3)0(4)0(4)           NaN               5    23   \n",
       "140   0(2)0(2)0(2)0(3)0(3)0(4)0(4)           NaN               5    23   \n",
       "233   0(2)0(2)0(2)0(3)0(3)0(4)0(4)           NaN               6    27   \n",
       "234   0(2)0(2)0(2)0(3)0(3)0(4)0(4)           NaN               6    27   \n",
       "...                            ...           ...             ...   ...   \n",
       "1921  0(2)2(2)0(2)0(3)0(3)0(4)0(4)           NaN              14    70   \n",
       "1922  2(2)0(2)0(2)0(3)0(3)0(4)0(4)           NaN              14    70   \n",
       "1923  2(2)0(2)2(2)0(3)0(3)0(4)0(4)           NaN              14    70   \n",
       "2059  1(2)0(2)2(2)0(3)0(3)0(4)0(4)           NaN              15    72   \n",
       "2223  2(2)2(2)0(2)0(3)0(3)0(4)1(4)           NaN              17    76   \n",
       "\n",
       "      Минимальный балл  \n",
       "60                  27  \n",
       "139                 27  \n",
       "140                 27  \n",
       "233                 27  \n",
       "234                 27  \n",
       "...                ...  \n",
       "1921                27  \n",
       "1922                27  \n",
       "1923                27  \n",
       "2059                27  \n",
       "2223                27  \n",
       "\n",
       "[77 rows x 11 columns]"
      ]
     },
     "execution_count": 23,
     "metadata": {},
     "output_type": "execute_result"
    }
   ],
   "source": [
    "table_125 = table[table['№ школы'] == 125]\n",
    "table_125 #Выводим таблицу по 125 школе"
   ]
  },
  {
   "cell_type": "code",
   "execution_count": 24,
   "id": "34ca69e9",
   "metadata": {},
   "outputs": [
    {
     "name": "stdout",
     "output_type": "stream",
     "text": [
      "Процент выполненных заданий типа 1: 87.01%\n",
      "Процент невыполненных заданий типа 1: 12.99%\n",
      "\n",
      "Процент выполненных заданий типа 2: 96.10%\n",
      "Процент невыполненных заданий типа 2: 3.90%\n",
      "\n",
      "Процент выполненных заданий типа 3: 96.10%\n",
      "Процент невыполненных заданий типа 3: 3.90%\n",
      "\n",
      "Процент выполненных заданий типа 4: 94.81%\n",
      "Процент невыполненных заданий типа 4: 5.19%\n",
      "\n",
      "Процент выполненных заданий типа 5: 94.81%\n",
      "Процент невыполненных заданий типа 5: 5.19%\n",
      "\n",
      "Процент выполненных заданий типа 6: 79.22%\n",
      "Процент невыполненных заданий типа 6: 20.78%\n",
      "\n",
      "Процент выполненных заданий типа 7: 35.06%\n",
      "Процент невыполненных заданий типа 7: 64.94%\n",
      "\n",
      "Процент выполненных заданий типа 8: 46.75%\n",
      "Процент невыполненных заданий типа 8: 53.25%\n",
      "\n",
      "Процент выполненных заданий типа 9: 96.10%\n",
      "Процент невыполненных заданий типа 9: 3.90%\n",
      "\n",
      "Процент выполненных заданий типа 10: 83.12%\n",
      "Процент невыполненных заданий типа 10: 16.88%\n",
      "\n",
      "Процент выполненных заданий типа 11: 67.53%\n",
      "Процент невыполненных заданий типа 11: 32.47%\n",
      "\n",
      "Процент выполненных заданий типа 12: 44.16%\n",
      "Процент невыполненных заданий типа 12: 55.84%\n",
      "\n"
     ]
    }
   ],
   "source": [
    "#Запустим для неё подкорректированный код номера 11\n",
    "count_of_done_short = [0]*count_of_short\n",
    "for i in table_125.index:\n",
    "    for j in range(count_of_short):\n",
    "        if table['Задания с кратким ответом'][i][j] == '+':\n",
    "            count_of_done_short[j] += 1\n",
    "for i in range(count_of_short):\n",
    "    print(f'Процент выполненных заданий типа {i+1}: {count_of_done_short[i]/len(table_125)*100:.2f}%')\n",
    "    print(f'Процент невыполненных заданий типа {i+1}: {100 - count_of_done_short[i]/len(table_125)*100:.2f}%\\n')"
   ]
  },
  {
   "cell_type": "code",
   "execution_count": 25,
   "id": "61c4408f",
   "metadata": {},
   "outputs": [
    {
     "name": "stdout",
     "output_type": "stream",
     "text": [
      "Процент учеников, выполнивших задание типа 1 более чем 50%: 25.97%\n",
      "Процент учеников, выполнивших задание типа 1 менее чем 50%: 74.03%\n",
      "\n",
      "Процент учеников, выполнивших задание типа 2 более чем 50%: 3.90%\n",
      "Процент учеников, выполнивших задание типа 2 менее чем 50%: 96.10%\n",
      "\n",
      "Процент учеников, выполнивших задание типа 3 более чем 50%: 5.19%\n",
      "Процент учеников, выполнивших задание типа 3 менее чем 50%: 94.81%\n",
      "\n",
      "Процент учеников, выполнивших задание типа 4 более чем 50%: 0.00%\n",
      "Процент учеников, выполнивших задание типа 4 менее чем 50%: 100.00%\n",
      "\n",
      "Процент учеников, выполнивших задание типа 5 более чем 50%: 0.00%\n",
      "Процент учеников, выполнивших задание типа 5 менее чем 50%: 100.00%\n",
      "\n",
      "Процент учеников, выполнивших задание типа 6 более чем 50%: 0.00%\n",
      "Процент учеников, выполнивших задание типа 6 менее чем 50%: 100.00%\n",
      "\n",
      "Процент учеников, выполнивших задание типа 7 более чем 50%: 0.00%\n",
      "Процент учеников, выполнивших задание типа 7 менее чем 50%: 100.00%\n",
      "\n"
     ]
    }
   ],
   "source": [
    "#Запустим для неё подкорректированный код номера 12\n",
    "count_of_done_long = [0]*count_of_long\n",
    "for i in table_125.index:\n",
    "    for j in range(0, count_of_long*4, 4):\n",
    "        if table['Задания с развёрнутым ответом'][i][j] >= table['Задания с развёрнутым ответом'][i][j+2]:\n",
    "            count_of_done_long[j//4] += 1\n",
    "for i in range(count_of_long):\n",
    "    print(f'Процент учеников, выполнивших задание типа {i+1} более чем 50%: {count_of_done_long[i]/len(table_125)*100:.2f}%')\n",
    "    print(f'Процент учеников, выполнивших задание типа {i+1} менее чем 50%: {100 - count_of_done_long[i]/len(table_125)*100:.2f}%\\n')"
   ]
  },
  {
   "cell_type": "code",
   "execution_count": 26,
   "id": "5d996f4e",
   "metadata": {},
   "outputs": [
    {
     "name": "stdout",
     "output_type": "stream",
     "text": [
      "Юноши Школы 125 в среднем сдали экзамен на 48.89 баллов,\n",
      "Девушки же на 50.39 баллов\n"
     ]
    }
   ],
   "source": [
    "#Вычисляем средние баллы юношей и девушек\n",
    "male_125 = table_125[table_125['Пол'] == 'М']['Балл'].mean()\n",
    "female_125 = table_125[table_125['Пол'] == 'Ж']['Балл'].mean()\n",
    "print(f'Юноши Школы 125 в среднем сдали экзамен на {male_125:.2f} баллов,\\nДевушки же на {female_125:.2f} баллов')"
   ]
  },
  {
   "cell_type": "markdown",
   "id": "173beabb",
   "metadata": {},
   "source": [
    "Школа 135"
   ]
  },
  {
   "cell_type": "code",
   "execution_count": 27,
   "id": "0066bb30",
   "metadata": {},
   "outputs": [
    {
     "data": {
      "text/html": [
       "<div>\n",
       "<style scoped>\n",
       "    .dataframe tbody tr th:only-of-type {\n",
       "        vertical-align: middle;\n",
       "    }\n",
       "\n",
       "    .dataframe tbody tr th {\n",
       "        vertical-align: top;\n",
       "    }\n",
       "\n",
       "    .dataframe thead th {\n",
       "        text-align: right;\n",
       "    }\n",
       "</style>\n",
       "<table border=\"1\" class=\"dataframe\">\n",
       "  <thead>\n",
       "    <tr style=\"text-align: right;\">\n",
       "      <th></th>\n",
       "      <th>№</th>\n",
       "      <th>№ школы</th>\n",
       "      <th>Класс</th>\n",
       "      <th>Пол</th>\n",
       "      <th>Номер варианта</th>\n",
       "      <th>Задания с кратким ответом</th>\n",
       "      <th>Задания с развёрнутым ответом</th>\n",
       "      <th>Устная часть</th>\n",
       "      <th>Первичный балл</th>\n",
       "      <th>Балл</th>\n",
       "      <th>Минимальный балл</th>\n",
       "    </tr>\n",
       "  </thead>\n",
       "  <tbody>\n",
       "    <tr>\n",
       "      <th>15</th>\n",
       "      <td>16</td>\n",
       "      <td>135</td>\n",
       "      <td>12</td>\n",
       "      <td>М</td>\n",
       "      <td>339</td>\n",
       "      <td>++----------</td>\n",
       "      <td>0(2)0(2)0(2)0(3)0(3)0(4)0(4)</td>\n",
       "      <td>NaN</td>\n",
       "      <td>2</td>\n",
       "      <td>9</td>\n",
       "      <td>27</td>\n",
       "    </tr>\n",
       "    <tr>\n",
       "      <th>39</th>\n",
       "      <td>40</td>\n",
       "      <td>135</td>\n",
       "      <td>12</td>\n",
       "      <td>М</td>\n",
       "      <td>337</td>\n",
       "      <td>-+-++-------</td>\n",
       "      <td>0(2)0(2)0(2)0(3)0(3)0(4)0(4)</td>\n",
       "      <td>NaN</td>\n",
       "      <td>3</td>\n",
       "      <td>14</td>\n",
       "      <td>27</td>\n",
       "    </tr>\n",
       "    <tr>\n",
       "      <th>80</th>\n",
       "      <td>81</td>\n",
       "      <td>135</td>\n",
       "      <td>13</td>\n",
       "      <td>М</td>\n",
       "      <td>103</td>\n",
       "      <td>+++-+-------</td>\n",
       "      <td>0(2)0(2)0(2)0(3)0(3)0(4)0(4)</td>\n",
       "      <td>NaN</td>\n",
       "      <td>4</td>\n",
       "      <td>18</td>\n",
       "      <td>27</td>\n",
       "    </tr>\n",
       "    <tr>\n",
       "      <th>81</th>\n",
       "      <td>82</td>\n",
       "      <td>135</td>\n",
       "      <td>11</td>\n",
       "      <td>Ж</td>\n",
       "      <td>348</td>\n",
       "      <td>++-+----+---</td>\n",
       "      <td>0(2)0(2)0(2)0(3)0(3)0(4)0(4)</td>\n",
       "      <td>NaN</td>\n",
       "      <td>4</td>\n",
       "      <td>18</td>\n",
       "      <td>27</td>\n",
       "    </tr>\n",
       "    <tr>\n",
       "      <th>82</th>\n",
       "      <td>83</td>\n",
       "      <td>135</td>\n",
       "      <td>12</td>\n",
       "      <td>М</td>\n",
       "      <td>339</td>\n",
       "      <td>+++------+--</td>\n",
       "      <td>0(2)0(2)0(2)0(3)0(3)0(4)0(4)</td>\n",
       "      <td>NaN</td>\n",
       "      <td>4</td>\n",
       "      <td>18</td>\n",
       "      <td>27</td>\n",
       "    </tr>\n",
       "    <tr>\n",
       "      <th>...</th>\n",
       "      <td>...</td>\n",
       "      <td>...</td>\n",
       "      <td>...</td>\n",
       "      <td>...</td>\n",
       "      <td>...</td>\n",
       "      <td>...</td>\n",
       "      <td>...</td>\n",
       "      <td>...</td>\n",
       "      <td>...</td>\n",
       "      <td>...</td>\n",
       "      <td>...</td>\n",
       "    </tr>\n",
       "    <tr>\n",
       "      <th>2170</th>\n",
       "      <td>2171</td>\n",
       "      <td>135</td>\n",
       "      <td>11</td>\n",
       "      <td>М</td>\n",
       "      <td>348</td>\n",
       "      <td>++++++++++++</td>\n",
       "      <td>2(2)0(2)2(2)0(3)0(3)0(4)0(4)</td>\n",
       "      <td>NaN</td>\n",
       "      <td>16</td>\n",
       "      <td>74</td>\n",
       "      <td>27</td>\n",
       "    </tr>\n",
       "    <tr>\n",
       "      <th>2171</th>\n",
       "      <td>2172</td>\n",
       "      <td>135</td>\n",
       "      <td>11</td>\n",
       "      <td>Ж</td>\n",
       "      <td>342</td>\n",
       "      <td>++++++++++++</td>\n",
       "      <td>2(2)0(2)2(2)0(3)0(3)0(4)0(4)</td>\n",
       "      <td>NaN</td>\n",
       "      <td>16</td>\n",
       "      <td>74</td>\n",
       "      <td>27</td>\n",
       "    </tr>\n",
       "    <tr>\n",
       "      <th>2238</th>\n",
       "      <td>2239</td>\n",
       "      <td>135</td>\n",
       "      <td>11</td>\n",
       "      <td>М</td>\n",
       "      <td>347</td>\n",
       "      <td>++++++++++++</td>\n",
       "      <td>2(2)0(2)2(2)0(3)0(3)0(4)1(4)</td>\n",
       "      <td>NaN</td>\n",
       "      <td>17</td>\n",
       "      <td>76</td>\n",
       "      <td>27</td>\n",
       "    </tr>\n",
       "    <tr>\n",
       "      <th>2284</th>\n",
       "      <td>2285</td>\n",
       "      <td>135</td>\n",
       "      <td>11</td>\n",
       "      <td>Ж</td>\n",
       "      <td>345</td>\n",
       "      <td>+++++++-++++</td>\n",
       "      <td>2(2)2(2)2(2)0(3)1(3)0(4)0(4)</td>\n",
       "      <td>NaN</td>\n",
       "      <td>18</td>\n",
       "      <td>78</td>\n",
       "      <td>27</td>\n",
       "    </tr>\n",
       "    <tr>\n",
       "      <th>2309</th>\n",
       "      <td>2310</td>\n",
       "      <td>135</td>\n",
       "      <td>11</td>\n",
       "      <td>М</td>\n",
       "      <td>337</td>\n",
       "      <td>+++++++-++++</td>\n",
       "      <td>2(2)2(2)2(2)0(3)0(3)0(4)2(4)</td>\n",
       "      <td>NaN</td>\n",
       "      <td>19</td>\n",
       "      <td>80</td>\n",
       "      <td>27</td>\n",
       "    </tr>\n",
       "  </tbody>\n",
       "</table>\n",
       "<p>182 rows × 11 columns</p>\n",
       "</div>"
      ],
      "text/plain": [
       "         №  № школы Класс Пол  Номер варианта Задания с кратким ответом  \\\n",
       "15      16      135    12   М             339              ++----------   \n",
       "39      40      135    12   М             337              -+-++-------   \n",
       "80      81      135    13   М             103              +++-+-------   \n",
       "81      82      135    11   Ж             348              ++-+----+---   \n",
       "82      83      135    12   М             339              +++------+--   \n",
       "...    ...      ...   ...  ..             ...                       ...   \n",
       "2170  2171      135    11   М             348              ++++++++++++   \n",
       "2171  2172      135    11   Ж             342              ++++++++++++   \n",
       "2238  2239      135    11   М             347              ++++++++++++   \n",
       "2284  2285      135    11   Ж             345              +++++++-++++   \n",
       "2309  2310      135    11   М             337              +++++++-++++   \n",
       "\n",
       "     Задания с развёрнутым ответом  Устная часть  Первичный балл  Балл  \\\n",
       "15    0(2)0(2)0(2)0(3)0(3)0(4)0(4)           NaN               2     9   \n",
       "39    0(2)0(2)0(2)0(3)0(3)0(4)0(4)           NaN               3    14   \n",
       "80    0(2)0(2)0(2)0(3)0(3)0(4)0(4)           NaN               4    18   \n",
       "81    0(2)0(2)0(2)0(3)0(3)0(4)0(4)           NaN               4    18   \n",
       "82    0(2)0(2)0(2)0(3)0(3)0(4)0(4)           NaN               4    18   \n",
       "...                            ...           ...             ...   ...   \n",
       "2170  2(2)0(2)2(2)0(3)0(3)0(4)0(4)           NaN              16    74   \n",
       "2171  2(2)0(2)2(2)0(3)0(3)0(4)0(4)           NaN              16    74   \n",
       "2238  2(2)0(2)2(2)0(3)0(3)0(4)1(4)           NaN              17    76   \n",
       "2284  2(2)2(2)2(2)0(3)1(3)0(4)0(4)           NaN              18    78   \n",
       "2309  2(2)2(2)2(2)0(3)0(3)0(4)2(4)           NaN              19    80   \n",
       "\n",
       "      Минимальный балл  \n",
       "15                  27  \n",
       "39                  27  \n",
       "80                  27  \n",
       "81                  27  \n",
       "82                  27  \n",
       "...                ...  \n",
       "2170                27  \n",
       "2171                27  \n",
       "2238                27  \n",
       "2284                27  \n",
       "2309                27  \n",
       "\n",
       "[182 rows x 11 columns]"
      ]
     },
     "execution_count": 27,
     "metadata": {},
     "output_type": "execute_result"
    }
   ],
   "source": [
    "table_135 = table[table['№ школы'] == 135]\n",
    "table_135 #Выводим таблицу по 135 школе"
   ]
  },
  {
   "cell_type": "code",
   "execution_count": 28,
   "id": "9f6705ce",
   "metadata": {},
   "outputs": [
    {
     "name": "stdout",
     "output_type": "stream",
     "text": [
      "Процент выполненных заданий типа 1: 88.46%\n",
      "Процент невыполненных заданий типа 1: 11.54%\n",
      "\n",
      "Процент выполненных заданий типа 2: 96.15%\n",
      "Процент невыполненных заданий типа 2: 3.85%\n",
      "\n",
      "Процент выполненных заданий типа 3: 91.76%\n",
      "Процент невыполненных заданий типа 3: 8.24%\n",
      "\n",
      "Процент выполненных заданий типа 4: 85.71%\n",
      "Процент невыполненных заданий типа 4: 14.29%\n",
      "\n",
      "Процент выполненных заданий типа 5: 91.76%\n",
      "Процент невыполненных заданий типа 5: 8.24%\n",
      "\n",
      "Процент выполненных заданий типа 6: 71.98%\n",
      "Процент невыполненных заданий типа 6: 28.02%\n",
      "\n",
      "Процент выполненных заданий типа 7: 39.01%\n",
      "Процент невыполненных заданий типа 7: 60.99%\n",
      "\n",
      "Процент выполненных заданий типа 8: 43.96%\n",
      "Процент невыполненных заданий типа 8: 56.04%\n",
      "\n",
      "Процент выполненных заданий типа 9: 89.56%\n",
      "Процент невыполненных заданий типа 9: 10.44%\n",
      "\n",
      "Процент выполненных заданий типа 10: 72.53%\n",
      "Процент невыполненных заданий типа 10: 27.47%\n",
      "\n",
      "Процент выполненных заданий типа 11: 54.95%\n",
      "Процент невыполненных заданий типа 11: 45.05%\n",
      "\n",
      "Процент выполненных заданий типа 12: 42.86%\n",
      "Процент невыполненных заданий типа 12: 57.14%\n",
      "\n"
     ]
    }
   ],
   "source": [
    "#Запустим для неё подкорректированный код номера 11\n",
    "count_of_done_short = [0]*count_of_short\n",
    "for i in table_135.index:\n",
    "    for j in range(count_of_short):\n",
    "        if table['Задания с кратким ответом'][i][j] == '+':\n",
    "            count_of_done_short[j] += 1\n",
    "for i in range(count_of_short):\n",
    "    print(f'Процент выполненных заданий типа {i+1}: {count_of_done_short[i]/len(table_135)*100:.2f}%')\n",
    "    print(f'Процент невыполненных заданий типа {i+1}: {100 - count_of_done_short[i]/len(table_135)*100:.2f}%\\n')"
   ]
  },
  {
   "cell_type": "code",
   "execution_count": 29,
   "id": "4da30486",
   "metadata": {},
   "outputs": [
    {
     "name": "stdout",
     "output_type": "stream",
     "text": [
      "Процент учеников, выполнивших задание типа 1 более чем 50%: 22.53%\n",
      "Процент учеников, выполнивших задание типа 1 менее чем 50%: 77.47%\n",
      "\n",
      "Процент учеников, выполнивших задание типа 2 более чем 50%: 3.85%\n",
      "Процент учеников, выполнивших задание типа 2 менее чем 50%: 96.15%\n",
      "\n",
      "Процент учеников, выполнивших задание типа 3 более чем 50%: 6.59%\n",
      "Процент учеников, выполнивших задание типа 3 менее чем 50%: 93.41%\n",
      "\n",
      "Процент учеников, выполнивших задание типа 4 более чем 50%: 0.55%\n",
      "Процент учеников, выполнивших задание типа 4 менее чем 50%: 99.45%\n",
      "\n",
      "Процент учеников, выполнивших задание типа 5 более чем 50%: 0.00%\n",
      "Процент учеников, выполнивших задание типа 5 менее чем 50%: 100.00%\n",
      "\n",
      "Процент учеников, выполнивших задание типа 6 более чем 50%: 0.00%\n",
      "Процент учеников, выполнивших задание типа 6 менее чем 50%: 100.00%\n",
      "\n",
      "Процент учеников, выполнивших задание типа 7 более чем 50%: 0.00%\n",
      "Процент учеников, выполнивших задание типа 7 менее чем 50%: 100.00%\n",
      "\n"
     ]
    }
   ],
   "source": [
    "#Запустим для неё подкорректированный код номера 12\n",
    "count_of_done_long = [0]*count_of_long\n",
    "for i in table_135.index:\n",
    "    for j in range(0, count_of_long*4, 4):\n",
    "        if table['Задания с развёрнутым ответом'][i][j] >= table['Задания с развёрнутым ответом'][i][j+2]:\n",
    "            count_of_done_long[j//4] += 1\n",
    "for i in range(count_of_long):\n",
    "    print(f'Процент учеников, выполнивших задание типа {i+1} более чем 50%: {count_of_done_long[i]/len(table_135)*100:.2f}%')\n",
    "    print(f'Процент учеников, выполнивших задание типа {i+1} менее чем 50%: {100 - count_of_done_long[i]/len(table_135)*100:.2f}%\\n')"
   ]
  },
  {
   "cell_type": "code",
   "execution_count": 30,
   "id": "b283916a",
   "metadata": {},
   "outputs": [
    {
     "name": "stdout",
     "output_type": "stream",
     "text": [
      "Юноши Школы 135 в среднем сдали экзамен на 47.04 баллов,\n",
      "Девушки же на 48.43 баллов\n"
     ]
    }
   ],
   "source": [
    "#Вычисляем средние баллы юношей и девушек\n",
    "male_135 = table_135[table_135['Пол'] == 'М']['Балл'].mean()\n",
    "female_135 = table_135[table_135['Пол'] == 'Ж']['Балл'].mean()\n",
    "print(f'Юноши Школы 135 в среднем сдали экзамен на {male_135:.2f} баллов,\\nДевушки же на {female_135:.2f} баллов')"
   ]
  },
  {
   "cell_type": "markdown",
   "id": "8c5e4406",
   "metadata": {},
   "source": [
    "**14. Для каждого задания добавьте соответствующий раздел в ноутбук и текстовые пояснения.**"
   ]
  }
 ],
 "metadata": {
  "kernelspec": {
   "display_name": "Python 3 (ipykernel)",
   "language": "python",
   "name": "python3"
  },
  "language_info": {
   "codemirror_mode": {
    "name": "ipython",
    "version": 3
   },
   "file_extension": ".py",
   "mimetype": "text/x-python",
   "name": "python",
   "nbconvert_exporter": "python",
   "pygments_lexer": "ipython3",
   "version": "3.9.13"
  }
 },
 "nbformat": 4,
 "nbformat_minor": 5
}
